{
 "cells": [
  {
   "cell_type": "markdown",
   "metadata": {
    "collapsed": true
   },
   "source": [
    "# Sphere with Uniformly Distributed Surface Charges\n",
    "\n",
    "*Björn Stenqvist, Coralie Pasquier & Mikael Lund, 2016*\n",
    "\n",
    "This will simulate point charges moving on the surface of a neutral sphere and interacting via a Coulomb potential. They will spread in order to minimize the free energy. Final coordinates of the charges are accessible in the *confout.pqr* file.\n",
    "\n",
    "![figure](mc/hypersphere5.png)\n",
    "\n",
    "### System Requirements\n",
    "This Jupyter Notebook was originally run in Ubuntu 14.04 with `GCC 4.8.4`, `Python 2.7` and `matplotlib`."
   ]
  },
  {
   "cell_type": "markdown",
   "metadata": {},
   "source": [
    "### Download and build Faunus\n",
    "\n",
    "We use a custom Metropolis Monte Carlo (MC) program build within the [Faunus framework](http://github.com/bjornstenqvist/faunus.git). The sections below will fetch the complete faunus project and compile the program."
   ]
  },
  {
   "cell_type": "code",
   "execution_count": null,
   "metadata": {
    "collapsed": false
   },
   "outputs": [],
   "source": [
    "from __future__ import division, unicode_literals, print_function\n",
    "import matplotlib as mpl\n",
    "import matplotlib.pyplot as plt\n",
    "#%matplotlib inline\n",
    "%matplotlib notebook\n",
    "import numpy as np, pandas as pd\n",
    "import os.path, os, sys, json\n",
    "from subprocess import call, check_output\n",
    "from shutil import copyfile\n",
    "try:\n",
    "    workdir\n",
    "except NameError:\n",
    "    workdir=%pwd\n",
    "else:\n",
    "    %cd $workdir\n",
    "print(workdir)"
   ]
  },
  {
   "cell_type": "code",
   "execution_count": null,
   "metadata": {
    "collapsed": false,
    "scrolled": true
   },
   "outputs": [],
   "source": [
    "%%bash -s \"$workdir\"\n",
    "set -e  # abort on any error, don't silently continue\n",
    "cd $1\n",
    "if [ ! -d \"faunus/\" ]; then\n",
    "    echo 'fau_example(nemo \"./\" nemo.cpp)' > mc/CMakeLists.txt\n",
    "    git clone https://github.com/bjornstenqvist/faunus.git\n",
    "    cd faunus\n",
    "    git checkout f9e6f969c0a82e75ab6facaf81b7bc6ce639a2ce\n",
    "else\n",
    "  cd faunus\n",
    "fi\n",
    "pwd\n",
    "cmake . -DCMAKE_BUILD_TYPE=Release -DENABLE_APPROXMATH=on -DMYPLAYGROUND=`pwd`/../mc &>/dev/null\n",
    "cd `pwd`/../mc\n",
    "make -j4"
   ]
  },
  {
   "cell_type": "markdown",
   "metadata": {},
   "source": [
    "### Create Input and run MC simulation"
   ]
  },
  {
   "cell_type": "code",
   "execution_count": null,
   "metadata": {
    "collapsed": false
   },
   "outputs": [],
   "source": [
    "%%time\n",
    "def mkinput():\n",
    "    d = {\n",
    "     \"atomlist\" : {\n",
    "       \"Na\" : { \"q\": Zc, \"sigma\":1.0, \"eps\":0.0, \"dp\":0.1, \"dprot\":dprot }\n",
    "       },\n",
    " \n",
    "     \"moleculelist\" : {\n",
    "       \"Na\" : { \"atoms\":\"Na\", \"Ninit\":Nc, \"atomic\":True }\n",
    "       },\n",
    " \n",
    "     \"energy\" : {\n",
    "       \"nonbonded\" : { \"coulomb\" : { \"epsr\":1, \"cutoff\":10 } }\n",
    "       },\n",
    " \n",
    "     \"moves\" : {\n",
    "       \"atomtranslate2Dhypersphere\" : {\n",
    "         \"Na\" : { \"peratom\":True, \"radius\" :80 }\n",
    "         }\n",
    "       },\n",
    " \n",
    "     \"system\" : {\n",
    "       \"temperature\"   : 10,\n",
    "       \"spheresurface\" : { \"radius\" :Rs },\n",
    "       \"mcloop\"        : { \"macro\":10, \"micro\":micro },\n",
    "       \"atomlist\"      : \"nemo.json\",\n",
    "       \"moleculelist\"  : \"nemo.json\"\n",
    "            }\n",
    "        }\n",
    "    f = open('nemo.json', 'w+')\n",
    "    f.write(json.dumps(d, indent=4))\n",
    "    f.close()\n",
    "    \n",
    "# Parameters\n",
    "Zc=1.0        # Value of each charge\n",
    "Nc=100        # Number of charges\n",
    "Rs=10.0       # Radius of the central, neutral sphere (Angstroms)\n",
    "micro=1000    # Number of steps of the simulation /10\n",
    "dprot=300/Rs  # Displacement parameter of the charges\n",
    "\n",
    "%cd $workdir'/mc'    \n",
    "!rm -fR state\n",
    "mkinput()\n",
    "!./nemo > /dev/null"
   ]
  },
  {
   "cell_type": "code",
   "execution_count": null,
   "metadata": {
    "collapsed": false
   },
   "outputs": [],
   "source": [
    "from mpl_toolkits.mplot3d import Axes3D\n",
    "x, y, z = np.genfromtxt('confout.pqr', unpack=True, usecols=(5,6,7), invalid_raise=False, skip_footer=1)\n",
    "fig = plt.figure()\n",
    "ax = fig.add_subplot(111, projection='3d')\n",
    "ax.axis('off')\n",
    "ax.scatter(x,y,z)"
   ]
  }
 ],
 "metadata": {
  "kernelspec": {
   "display_name": "Python 3",
   "language": "python",
   "name": "python3"
  },
  "language_info": {
   "codemirror_mode": {
    "name": "ipython",
    "version": 3
   },
   "file_extension": ".py",
   "mimetype": "text/x-python",
   "name": "python",
   "nbconvert_exporter": "python",
   "pygments_lexer": "ipython3",
   "version": "3.5.1"
  }
 },
 "nbformat": 4,
 "nbformat_minor": 0
}
