{
 "cells": [
  {
   "cell_type": "markdown",
   "metadata": {},
   "source": [
    "# Equation of State using Generalized van der Waals Theory\n",
    "\n",
    "This notebook illustrates the generalized van der Waals theory (gvdW) for the equation of state for interacting particles. Based on the lecture notes, _Properties of Molecular Fluids in Equilibrium_ by Sture Nordholm."
   ]
  },
  {
   "cell_type": "code",
   "execution_count": null,
   "metadata": {
    "collapsed": false
   },
   "outputs": [],
   "source": [
    "from __future__ import division, unicode_literals, print_function\n",
    "%matplotlib inline\n",
    "import matplotlib.pyplot as plt\n",
    "import numpy as np\n",
    "import inspect\n",
    "from scipy.integrate import quad\n",
    "from ipywidgets import interact\n",
    "from math import sqrt, pi\n",
    "plt.rcParams.update({'font.size': 16, 'figure.figsize': [8.0, 6.0]})"
   ]
  },
  {
   "cell_type": "markdown",
   "metadata": {},
   "source": [
    "### Pair potentials\n",
    "\n",
    "The particles are here assumed to interact via a Lennard-Jones and a screened Coulomb potential,\n",
    "\n",
    "$$\n",
    "\\beta w(r) = \\frac{\\lambda_B z^2}{r} e^{-r/\\lambda_D}\n",
    "+ 4\\beta \\varepsilon_{LJ} \\left ( \\left ( \\frac{\\sigma}{r}\\right )^{12} - \\left ( \\frac{\\sigma}{r}\\right )^{6}\\right )\n",
    "$$\n",
    "\n",
    "where $\\lambda_B$ and $\\lambda_D$ are the Bjerrum and Debye lengths, respectively.\n",
    "Any potential may in principle be given and must return the energy in units of $k_BT$."
   ]
  },
  {
   "cell_type": "code",
   "execution_count": null,
   "metadata": {
    "collapsed": false
   },
   "outputs": [],
   "source": [
    "# Debye-Huckel\n",
    "def wDH(r, z, D):\n",
    "    lB = 7.0 # Bjerrum length, angstroms\n",
    "    return lB * z**2 * np.exp(-r/D) / r\n",
    "\n",
    "# Lennard-Jones\n",
    "def wLJ(r, eps, sigma):\n",
    "    return 4 * eps * ( (sigma/r)**12 - (sigma/r)**6 )\n",
    "\n",
    "# Total potential\n",
    "def w(r, z, D, eps, sigma):\n",
    "    return wDH(r, z, D) + wLJ(r, eps, sigma)"
   ]
  },
  {
   "cell_type": "markdown",
   "metadata": {},
   "source": [
    "### Interaction parameter\n",
    "\n",
    "Here we integrate the above pair potential to get the average interaction energy per particle, assuming that the pair correlation function, $g(r)$, can be described by a simple step function, zero when $r<\\sigma$, unity otherwise:\n",
    "$$ \n",
    "\\hat{a} = -\\frac{1}{2} \\int_{\\sigma}^{\\infty} 4\\pi w(r) r^2 dr\n",
    "$$\n",
    "\n",
    "In this Notebook we simply do the integration numerically so that we can use arbitrary pair potentials.\n",
    "From this we calculate the pressure, $p$, versus density, $n$, using,\n",
    "\n",
    "$$\n",
    "\\beta p_{gvdW} = \\frac{1}{v-v_0} - \\frac{\\hat{a}}{v^2}\n",
    "$$\n",
    "\n",
    "where $v=1/n$ and $v_0=2\\pi\\sigma^3/3$ is the particle volume.\n",
    "For reference we'll also plot EOS for an ideal system (van 't Hoff), $\\beta p_{ideal}=n$,\n",
    "where $\\beta = 1/k_BT$."
   ]
  },
  {
   "cell_type": "code",
   "execution_count": null,
   "metadata": {
    "collapsed": false
   },
   "outputs": [],
   "source": [
    "def ahat(potential, **parameters):\n",
    "    sigma = parameters['sigma']\n",
    "    # extract the relevant parameters for the potential\n",
    "    parameters = {k:v for k,v in parameters.items() if k in inspect.signature(potential).parameters}\n",
    "    \n",
    "    def integrand(r):\n",
    "        return potential(r, **parameters) * r**2\n",
    "    integral, error = quad(integrand, sigma, np.infty, limit=50)\n",
    "    return -2 * pi * integral\n",
    "\n",
    "\n",
    "def ahatexact(z, D, eps, sigma):\n",
    "    return -2 * pi * (-8/9 * eps * sigma**3 + 7 * np.exp(-sigma/D) * z**2 * (D + sigma))\n",
    "\n",
    "def Pideal(n):\n",
    "    return n\n",
    "\n",
    "def Pgvdw(n, z, D, eps, sigma, potential=w):\n",
    "    v0 = 2*pi*sigma**3 / 3\n",
    "    v  = 1 / n\n",
    "    a = ahat(potential, z=z, D=D, eps=eps, sigma=sigma)\n",
    "    return 1/(v-v0) - a/v**2"
   ]
  },
  {
   "cell_type": "markdown",
   "metadata": {},
   "source": [
    "### Interactive EOS plot"
   ]
  },
  {
   "cell_type": "code",
   "execution_count": null,
   "metadata": {
    "collapsed": false
   },
   "outputs": [],
   "source": [
    "def plot_EOS( eps=1.0, sigma=4.0, z=0.0, Cs=0.3, potential=w):\n",
    "    D = 3.04/sqrt(Cs)\n",
    "    plt.plot(n, Pideal(n),  'k--', label='ideal', lw=2)\n",
    "    plt.plot(n, Pgvdw(n, z, D, eps, sigma, potential=potential),  'r-', label='gvdW', lw=2)\n",
    "\n",
    "n = np.linspace(1e-7, 6e-3, 100)\n",
    "    \n",
    "i = interact(plot_EOS,\n",
    "             eps=(0.0, 10.0, 0.1), \n",
    "             sigma=(0, 5, 0.1), \n",
    "             z=(0.0, 10, 1.0), \n",
    "             Cs=(1e-3, 1.0, 0.1), \n",
    "             potential = {\"Combined\": w, \"Lennard-Jones\": wLJ, \"Debye-Huckel\": wDH} )\n",
    "\n",
    "plt.title('Equation of State')\n",
    "plt.xlabel(r'Number density, $n$')\n",
    "plt.ylabel(r'Pressure, $\\beta p$')\n",
    "plt.legend(loc=0, frameon=False)\n",
    " \n",
    "i.widget.children[0].description=r'$\\beta\\varepsilon_{LJ}$'\n",
    "i.widget.children[1].description=r'$\\sigma_{LJ}$'\n",
    "i.widget.children[2].description=r'$z$'\n",
    "i.widget.children[3].description=r'$c_s$ (M)'"
   ]
  },
  {
   "cell_type": "code",
   "execution_count": null,
   "metadata": {
    "collapsed": true
   },
   "outputs": [],
   "source": []
  }
 ],
 "metadata": {
  "kernelspec": {
   "display_name": "Python 3",
   "language": "python",
   "name": "python3"
  },
  "language_info": {
   "codemirror_mode": {
    "name": "ipython",
    "version": 3
   },
   "file_extension": ".py",
   "mimetype": "text/x-python",
   "name": "python",
   "nbconvert_exporter": "python",
   "pygments_lexer": "ipython3",
   "version": "3.5.1"
  }
 },
 "nbformat": 4,
 "nbformat_minor": 0
}
