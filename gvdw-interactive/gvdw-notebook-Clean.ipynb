{
 "cells": [
  {
   "cell_type": "markdown",
   "metadata": {},
   "source": [
    "# Equation of State using Generalized van der Waals Theory\n",
    "\n",
    "This notebook illustrates the generalized van der Waals theory (gvdW) for the equation of state for interacting particles. Based on the lecture notes, _Properties of Molecular Fluids in Equilibrium_ by Sture Nordholm."
   ]
  },
  {
   "cell_type": "code",
   "execution_count": 1,
   "metadata": {
    "collapsed": true
   },
   "outputs": [],
   "source": [
    "from __future__ import division, unicode_literals, print_function\n",
    "import matplotlib.pyplot as plt\n",
    "import numpy as np\n",
    "import inspect\n",
    "from scipy.integrate import quad\n",
    "from ipywidgets import interact\n",
    "from math import sqrt, pi\n",
    "plt.rcParams.update({'font.size': 16, 'figure.figsize': [8.0, 6.0]})"
   ]
  },
  {
   "cell_type": "markdown",
   "metadata": {},
   "source": [
    "### Pair potentials\n",
    "\n",
    "The particles are here assumed to interact via a Lennard-Jones and a screened Coulomb potential,\n",
    "\n",
    "$$\n",
    "\\beta w(r) = \\frac{\\lambda_B z^2}{r} e^{-r/\\lambda_D}\n",
    "+ 4\\beta \\varepsilon_{LJ} \\left ( \\left ( \\frac{\\sigma}{r}\\right )^{12} - \\left ( \\frac{\\sigma}{r}\\right )^{6}\\right )\n",
    "$$\n",
    "\n",
    "where $\\lambda_B$ and $\\lambda_D$ are the Bjerrum and Debye lengths, respectively.\n",
    "Any potential may in principle be given and must return the energy in units of $k_BT$."
   ]
  },
  {
   "cell_type": "markdown",
   "metadata": {},
   "source": [
    "## Define your own potentials below\n",
    "\n",
    "* The name should start with `potential_`\n",
    "* The first parameter should be `r`\n",
    "* The docstring can be added for a nice displayname of the function (The raw python string like `r\"$ \\mu $\"` is convenient when writing latex, because in normal strings the backslash acts as an escape character) "
   ]
  },
  {
   "cell_type": "code",
   "execution_count": 2,
   "metadata": {
    "collapsed": true
   },
   "outputs": [],
   "source": [
    "# Debye-Huckel\n",
    "def potential_Debye_Huckel(r, z, D):\n",
    "    r\"\"\"$\\frac{\\lambda_B z^2}{r} e^{-r/\\lambda_D}$\"\"\"\n",
    "    lB = 7.0 # Bjerrum length, angstroms\n",
    "    return lB * z**2 * np.exp(-r/D) / r\n",
    "\n",
    "# Lennard-Jones\n",
    "def potential_Lennard_Jones(r, eps, sigma):\n",
    "    r\"\"\"$4\\beta \\varepsilon_{LJ} \\left ( \\left ( \\frac{\\sigma}{r}\\right )^{12} - \\left ( \\frac{\\sigma}{r}\\right )^{6}\\right )$\"\"\"\n",
    "    return 4 * eps * ( (sigma/r)**12 - (sigma/r)**6 )\n",
    "\n",
    "# Total potential\n",
    "def potential_Combined(r, z, D, eps, sigma):\n",
    "    r\"\"\"$\\frac{\\lambda_B z^2}{r} e^{-r/\\lambda_D} + 4\\beta \\varepsilon_{LJ} \\left ( \\left ( \\frac{\\sigma}{r}\\right )^{12} - \\left ( \\frac{\\sigma}{r}\\right )^{6}\\right )$\"\"\"\n",
    "    return potential_Debye_Huckel(r, z, D) + potential_Lennard_Jones(r, eps, sigma)"
   ]
  },
  {
   "cell_type": "markdown",
   "metadata": {},
   "source": [
    "### Interaction parameter\n",
    "\n",
    "Here we integrate the above pair potential to get the average interaction energy per particle, assuming that the pair correlation function, $g(r)$, can be described by a simple step function, zero when $r<\\sigma$, unity otherwise:\n",
    "$$ \n",
    "\\hat{a} = -\\frac{1}{2} \\int_{\\sigma}^{\\infty} 4\\pi w(r) r^2 dr\n",
    "$$\n",
    "\n",
    "In this Notebook we simply do the integration numerically so that we can use arbitrary pair potentials.\n",
    "From this we calculate the potential, $μ$, versus density, $n$, using,\n",
    "\n",
    "$$\n",
    "\\beta \\, \\mu_{gvdW} = \\ln \\left( \\frac{1}{y-y_0} \\right) + \\frac{y}{y-y_0} - 2 \\frac{\\hat{a}}{y}\n",
    "$$\n",
    "\n",
    "From this we calculate the pressure, $p$, versus density, $n$, using,\n",
    "\n",
    "$$\n",
    "\\beta \\, p_{gvdW} = \\frac{1}{v-v_0} - \\frac{\\hat{a}}{v^2}\n",
    "$$\n",
    "\n",
    "where $y=1/n$ and $y_0=\\pi\\sigma^2/2$ is the particle volume.\n",
    "\n",
    "For reference we'll also plot Equation of State for an ideal system (van 't Hoff), $\\beta \\mu_{ideal}= \\ln (1/y)$,\n",
    "where $\\beta = 1/k_BT$."
   ]
  },
  {
   "cell_type": "code",
   "execution_count": 15,
   "metadata": {},
   "outputs": [],
   "source": [
    "def ahat(potential, **parameters):\n",
    "    sigma = parameters['sigma']\n",
    "    # extract the relevant parameters for the potential\n",
    "    parameters = {k:v for k,v in parameters.items() if k in inspect.signature(potential).parameters}\n",
    "    \n",
    "    def integrand(r):\n",
    "        return potential(r, **parameters) * r**2\n",
    "    integral, error = quad(integrand, sigma, np.infty, limit=50)\n",
    "    return -2 * pi * integral\n",
    "\n",
    "\n",
    "def ahatexact(z, D, eps, sigma):\n",
    "    return -2 * pi * (-8/9 * eps * sigma**3 + 7 * np.exp(-sigma/D) * z**2 * (D + sigma))\n",
    "\n",
    "def mu_ideal(n):\n",
    "    return np.log(n)\n",
    "\n",
    "def mu_gvdw(n, z, D, eps, sigma, potential=potential_Combined):\n",
    "    y0 = pi*sigma**2 / 2\n",
    "    y  = 1 / n\n",
    "    a = ahat(potential, z=z, D=D, eps=eps, sigma=sigma)\n",
    "    return np.log(1 / (y-y0)) + y / (y-y0) - 2 * a/y"
   ]
  },
  {
   "cell_type": "markdown",
   "metadata": {},
   "source": [
    "### Interactive EOS plot"
   ]
  },
  {
   "cell_type": "code",
   "execution_count": 30,
   "metadata": {},
   "outputs": [
    {
     "data": {
      "application/vnd.jupyter.widget-view+json": {
       "model_id": "010c864ac06e4512aca9446a5360d0ca"
      }
     },
     "metadata": {},
     "output_type": "display_data"
    }
   ],
   "source": [
    "def plot_EOS( eps=1.0, sigma=4.0, z=0.0, Cs=0.3, potential=potential_Combined):\n",
    "    D = 3.04/sqrt(Cs)\n",
    "#     plt.title(potential.__doc__)\n",
    "    plt.plot(n, mu_ideal(n),  'k--', label='ideal', lw=2)\n",
    "    plt.plot(n, mu_gvdw(n, z, D, eps, sigma, potential=potential),  'r-', label=potential.__doc__ or potential.__name__, lw=2)\n",
    "    plt.title('Equation of State')\n",
    "    plt.xlabel(r'Number density, $n$')\n",
    "    plt.ylabel(r'Potential, $\\beta \\mu$')\n",
    "    plt.legend(loc=0, frameon=False)\n",
    "    plt.show()\n",
    "\n",
    "n = np.linspace(1e-4, 1e-3, 100)\n",
    "\n",
    "_potentials = {fname: func for fname, func in globals().items() if fname.startswith(\"potential_\")}\n",
    "\n",
    "i = interact(plot_EOS,\n",
    "             eps=(0.0, 10.0, 0.1), \n",
    "             sigma=(0, 10, 0.1),\n",
    "             z=(0.0, 3, 1.0), \n",
    "             Cs=(1e-3, 1.0, 0.1), \n",
    "             potential = _potentials )\n",
    " \n",
    "i.widget.children[0].description=r'$\\beta\\varepsilon_{LJ}$'\n",
    "i.widget.children[1].description=r'$\\sigma_{LJ}$'\n",
    "i.widget.children[2].description=r'$z$'\n",
    "i.widget.children[3].description=r'$c_s$ (M)'"
   ]
  },
  {
   "cell_type": "markdown",
   "metadata": {},
   "source": [
    "# Experimental"
   ]
  },
  {
   "cell_type": "code",
   "execution_count": 14,
   "metadata": {
    "collapsed": true
   },
   "outputs": [],
   "source": [
    "from bokeh.io import show, output_notebook, push_notebook\n",
    "from bokeh.plotting import figure"
   ]
  },
  {
   "cell_type": "code",
   "execution_count": null,
   "metadata": {},
   "outputs": [],
   "source": [
    "output_notebook()"
   ]
  },
  {
   "cell_type": "code",
   "execution_count": null,
   "metadata": {
    "collapsed": true
   },
   "outputs": [],
   "source": [
    "def mu_harddisk(n, d):\n",
    "    return n * d**2 / (1 - n * d**2)"
   ]
  },
  {
   "cell_type": "code",
   "execution_count": null,
   "metadata": {},
   "outputs": [],
   "source": [
    "potfig = figure(title=\"Excess potential\",\n",
    "               plot_height=300, plot_width=600,\n",
    "               x_axis_label=\"Number density n\", y_axis_label=\"Potential (k T)\")\n",
    "hd_line = potfig.line(n, mu_harddisk(n, 12), legend=\"Harddisk\")\n",
    "gvdw_line = potfig.line(n, mu_gvdw(n, d=12, z=0, D=3.04/sqrt(0.3), eps=1, sigma=4, potential=potential_w), color=\"green\", legend=\"GvdW\")\n",
    "potfig_handle = show(potfig, notebook_handle=True)\n",
    "\n"
   ]
  },
  {
   "cell_type": "code",
   "execution_count": null,
   "metadata": {},
   "outputs": [],
   "source": [
    "start_interaction();"
   ]
  },
  {
   "cell_type": "code",
   "execution_count": null,
   "metadata": {
    "collapsed": true
   },
   "outputs": [],
   "source": [
    "fig = figure(title=\"Bokeh plot\", \n",
    "             plot_height=300, plot_width=600,\n",
    "             x_axis_label='Number density n', y_axis_label=\"Pressure, βp\")\n",
    "ideal_line = fig.line(n, Pideal(n), legend=\"Ideal\",)\n",
    "other_line = fig.line(n, Pgvdw(n, z=0, D=3.04/sqrt(0.3), eps=1, sigma=4, potential=potential_w), \n",
    "                      color=\"green\", legend=\"other\")\n",
    "fig.legend.click_policy = \"hide\"\n",
    "fig.legend.location = \"top_left\""
   ]
  },
  {
   "cell_type": "code",
   "execution_count": null,
   "metadata": {
    "collapsed": true
   },
   "outputs": [],
   "source": [
    "def update(eps=1.0, sigma=4.0, z=0.0, Cs=0.3, potential=potential_w):\n",
    "    D = 3.04/sqrt(Cs)\n",
    "    other_line.data_source.data[\"y\"] = Pgvdw(n, z, D, eps, sigma, potential)\n",
    "    push_notebook(handle=fig_handle)"
   ]
  },
  {
   "cell_type": "code",
   "execution_count": null,
   "metadata": {
    "collapsed": true
   },
   "outputs": [],
   "source": [
    "from functools import partial\n",
    "start_interaction = partial(interact, update, \n",
    "                            eps=(0.0, 10.0, 0.1), \n",
    "                            sigma=(0, 5, 0.1), \n",
    "                            z=(0.0, 10, 1.0),\n",
    "                            Cs=(1e-3, 1.0, 0.1), potential=_potentials)"
   ]
  },
  {
   "cell_type": "code",
   "execution_count": null,
   "metadata": {},
   "outputs": [],
   "source": [
    "fig_handle = show(fig, notebook_handle=True)"
   ]
  },
  {
   "cell_type": "code",
   "execution_count": null,
   "metadata": {},
   "outputs": [],
   "source": []
  },
  {
   "cell_type": "code",
   "execution_count": null,
   "metadata": {},
   "outputs": [],
   "source": [
    "def plot_EOS( eps=1.0, sigma=4.0, z=0.0, Cs=0.3, potential=potential_w):\n",
    "    D = 3.04/sqrt(Cs)\n",
    "#     plt.title(potential.__doc__)\n",
    "    plt.plot(n, Pideal(n),  'k--', label='ideal', lw=2)\n",
    "    plt.plot(n, Pgvdw(n, z, D, eps, sigma, potential=potential),  'r-', label=potential.__doc__ or potential.__name__, lw=2)\n",
    "    plt.title('Equation of State')\n",
    "    plt.xlabel(r'Number density, $n$')\n",
    "    plt.ylabel(r'Pressure, $\\beta p$')\n",
    "    plt.legend(loc=0, frameon=False)\n",
    "\n",
    "n = np.linspace(1e-7, 6e-3, 100)\n",
    "\n",
    "_potentials = {fname: func for fname, func in globals().items() if fname.startswith(\"potential_\")}\n",
    "\n",
    "i = interact(plot_EOS,\n",
    "             eps=(0.0, 10.0, 0.1), \n",
    "             sigma=(0, 5, 0.1),\n",
    "             z=(0.0, 10, 1.0), \n",
    "             Cs=(1e-3, 1.0, 0.1), \n",
    "             potential = _potentials )\n",
    "\n",
    "plt.title('Equation of State')\n",
    "plt.xlabel(r'Number density, $n$')\n",
    "plt.ylabel(r'Pressure, $\\beta p$')\n",
    "plt.legend(loc=0, frameon=False)\n",
    " \n",
    "i.widget.children[0].description=r'$\\beta\\varepsilon_{LJ}$'\n",
    "i.widget.children[1].description=r'$\\sigma_{LJ}$'\n",
    "i.widget.children[2].description=r'$z$'\n",
    "i.widget.children[3].description=r'$c_s$ (M)'"
   ]
  },
  {
   "cell_type": "markdown",
   "metadata": {},
   "source": [
    "# With Data"
   ]
  },
  {
   "cell_type": "code",
   "execution_count": 43,
   "metadata": {
    "collapsed": true
   },
   "outputs": [],
   "source": [
    "with open(\"datafile.csv\", \"wt\") as stream:\n",
    "    stream.write(\"\"\"\\\n",
    "length potential proteins density\n",
    "1.414000000000000000e+03 1.429585460731450097e-01 2.000000000000000000e+01 1.000302091231552026e+03\n",
    "9.990000000000000000e+02 2.990882091428900269e-01 2.000000000000000000e+01 2.004006008010011783e+03\n",
    "8.160000000000000000e+02 4.684432472751309806e-01 2.000000000000000000e+01 3.003652441368703876e+03\n",
    "6.320000000000000000e+02 8.629727385734929923e-01 2.000000000000000000e+01 5.007210382951449901e+03\n",
    "5.340000000000000000e+02 1.353602607621670062e+00 2.000000000000000000e+01 7.013704779138435697e+03\n",
    "4.710000000000000000e+02 1.970895704549270100e+00 2.000000000000000000e+01 9.015466031977857710e+03\n",
    "4.260000000000000000e+02 2.788653065634310035e+00 2.000000000000000000e+01 1.102074103462716812e+04\n",
    "3.920000000000000000e+02 3.842403663548089821e+00 2.000000000000000000e+01 1.301541024573094546e+04\"\"\")"
   ]
  },
  {
   "cell_type": "code",
   "execution_count": 44,
   "metadata": {
    "collapsed": true
   },
   "outputs": [],
   "source": [
    "df = pd.read_csv(\"datafile.csv\", delimiter=\"(?:\\s+|,)\", engine=\"python\")"
   ]
  },
  {
   "cell_type": "code",
   "execution_count": 45,
   "metadata": {},
   "outputs": [
    {
     "data": {
      "application/vnd.jupyter.widget-view+json": {
       "model_id": "0255f0aa7c6442d6b7eeaf4c4f12b824"
      }
     },
     "metadata": {},
     "output_type": "display_data"
    }
   ],
   "source": [
    "def plot_EOS( eps=1.0, sigma=4.0, z=0.0, Cs=0.3, potential=potential_Combined):\n",
    "    D = 3.04/sqrt(Cs)\n",
    "#     plt.title(potential.__doc__)\n",
    "    plt.plot(n, 10+mu_ideal(n),  'k--', label='ideal', lw=2)\n",
    "    plt.plot(n, 10+mu_gvdw(n, z, D, eps, sigma, potential=potential),  'r-', label=potential.__doc__ or potential.__name__, lw=2)\n",
    "    plt.plot(df.density/10**8, df.potential, label=\"data\")\n",
    "    plt.title('Equation of State')\n",
    "    plt.xlabel(r'Number density, $n$')\n",
    "    plt.ylabel(r'Potential, $\\beta \\mu$')\n",
    "    plt.legend(loc=0, frameon=False)\n",
    "    plt.show()\n",
    "\n",
    "n = np.linspace(1e-4, 1e-3, 100)\n",
    "\n",
    "_potentials = {fname: func for fname, func in globals().items() if fname.startswith(\"potential_\")}\n",
    "\n",
    "i = interact(plot_EOS,\n",
    "             eps=(0.0, 10.0, 0.1), \n",
    "             sigma=(0, 10, 0.1),\n",
    "             z=(0.0, 3, 1.0), \n",
    "             Cs=(1e-3, 1.0, 0.1), \n",
    "             potential = _potentials )\n",
    " \n",
    "i.widget.children[0].description=r'$\\beta\\varepsilon_{LJ}$'\n",
    "i.widget.children[1].description=r'$\\sigma_{LJ}$'\n",
    "i.widget.children[2].description=r'$z$'\n",
    "i.widget.children[3].description=r'$c_s$ (M)'"
   ]
  },
  {
   "cell_type": "code",
   "execution_count": null,
   "metadata": {
    "collapsed": true
   },
   "outputs": [],
   "source": []
  }
 ],
 "metadata": {
  "anaconda-cloud": {},
  "kernelspec": {
   "display_name": "Python 3",
   "language": "python",
   "name": "python3"
  },
  "language_info": {
   "codemirror_mode": {
    "name": "ipython",
    "version": 3
   },
   "file_extension": ".py",
   "mimetype": "text/x-python",
   "name": "python",
   "nbconvert_exporter": "python",
   "pygments_lexer": "ipython3",
   "version": "3.6.1"
  },
  "widgets": {
   "state": {
    "bb6ce5f633ef4963b9bf16b92bf3ac8f": {
     "views": [
      {
       "cell_index": 8
      }
     ]
    }
   },
   "version": "1.2.0"
  }
 },
 "nbformat": 4,
 "nbformat_minor": 1
}
